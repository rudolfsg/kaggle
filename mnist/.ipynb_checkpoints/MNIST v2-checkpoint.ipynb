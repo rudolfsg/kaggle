{
 "cells": [
  {
   "cell_type": "code",
   "execution_count": 42,
   "metadata": {},
   "outputs": [
    {
     "name": "stdout",
     "output_type": "stream",
     "text": [
      "   label  pixel0  pixel1  pixel2  pixel3  pixel4  pixel5  pixel6  pixel7  \\\n",
      "0      1       0       0       0       0       0       0       0       0   \n",
      "1      0       0       0       0       0       0       0       0       0   \n",
      "2      1       0       0       0       0       0       0       0       0   \n",
      "3      4       0       0       0       0       0       0       0       0   \n",
      "4      0       0       0       0       0       0       0       0       0   \n",
      "\n",
      "   pixel8    ...     pixel774  pixel775  pixel776  pixel777  pixel778  \\\n",
      "0       0    ...            0         0         0         0         0   \n",
      "1       0    ...            0         0         0         0         0   \n",
      "2       0    ...            0         0         0         0         0   \n",
      "3       0    ...            0         0         0         0         0   \n",
      "4       0    ...            0         0         0         0         0   \n",
      "\n",
      "   pixel779  pixel780  pixel781  pixel782  pixel783  \n",
      "0         0         0         0         0         0  \n",
      "1         0         0         0         0         0  \n",
      "2         0         0         0         0         0  \n",
      "3         0         0         0         0         0  \n",
      "4         0         0         0         0         0  \n",
      "\n",
      "[5 rows x 785 columns]\n"
     ]
    }
   ],
   "source": [
    "import numpy as np\n",
    "import pandas as pd\n",
    "import matplotlib.pyplot as plt\n",
    "\n",
    "\n",
    "\n",
    "data = pd.read_csv(\"train.csv\")\n",
    "print(data.head())\n",
    "\n",
    "test_data= pd.read_csv(\"test.csv\")"
   ]
  },
  {
   "cell_type": "code",
   "execution_count": 109,
   "metadata": {},
   "outputs": [
    {
     "name": "stdout",
     "output_type": "stream",
     "text": [
      "(42000, 785)\n",
      "[[1. 0. 0. 0. 0. 0. 0. 0. 0. 0.]\n",
      " [0. 1. 0. 0. 0. 0. 0. 0. 0. 0.]\n",
      " [0. 0. 0. 0. 1. 0. 0. 0. 0. 0.]\n",
      " [1. 0. 0. 0. 0. 0. 0. 0. 0. 0.]\n",
      " [1. 0. 0. 0. 0. 0. 0. 0. 0. 0.]\n",
      " [0. 0. 0. 0. 0. 0. 0. 1. 0. 0.]\n",
      " [0. 0. 0. 1. 0. 0. 0. 0. 0. 0.]\n",
      " [0. 0. 0. 0. 0. 1. 0. 0. 0. 0.]\n",
      " [0. 0. 0. 1. 0. 0. 0. 0. 0. 0.]]\n",
      "(28000, 783)\n"
     ]
    }
   ],
   "source": [
    "labels=data[\"label\"]\n",
    "x=data.iloc[:,1:]\n",
    "x=x/255 #try out this normalisation\n",
    "P=x.shape[1] # \n",
    "N_obs=x.shape[0] #number of observations\n",
    "M=60 #nr hidden units\n",
    "K=10 #output units\n",
    "print(data.shape)\n",
    "#create one hot encoded y\n",
    "y=np.zeros((N,K))\n",
    "for i in range(len(labels)):\n",
    "    idx=labels[i]\n",
    "    y[i,idx]=1\n",
    "print(y[1:10])\n",
    "\n",
    "test_x=test_data.iloc[:,1:]\n",
    "test_x=test_x/255 #try out this normalisation\n",
    "print(test_x.shape)"
   ]
  },
  {
   "cell_type": "code",
   "execution_count": 11,
   "metadata": {},
   "outputs": [],
   "source": [
    "def sigmoid(x):\n",
    "    return 1./(1+np.exp(-x))\n",
    "def loss(y_batch,y_hat):\n",
    "    temp=y_batch*np.log(y_hat)\n",
    "    return (-1./len(y_hat))*temp.sum()"
   ]
  },
  {
   "cell_type": "code",
   "execution_count": 1,
   "metadata": {},
   "outputs": [
    {
     "ename": "NameError",
     "evalue": "name 'np' is not defined",
     "output_type": "error",
     "traceback": [
      "\u001b[1;31m---------------------------------------------------------------------------\u001b[0m",
      "\u001b[1;31mNameError\u001b[0m                                 Traceback (most recent call last)",
      "\u001b[1;32m<ipython-input-1-f6662b34c67d>\u001b[0m in \u001b[0;36m<module>\u001b[1;34m()\u001b[0m\n\u001b[1;32m----> 1\u001b[1;33m \u001b[0mbeta\u001b[0m \u001b[1;33m=\u001b[0m \u001b[0mnp\u001b[0m\u001b[1;33m.\u001b[0m\u001b[0mrandom\u001b[0m\u001b[1;33m.\u001b[0m\u001b[0mnormal\u001b[0m\u001b[1;33m(\u001b[0m\u001b[0mloc\u001b[0m\u001b[1;33m=\u001b[0m\u001b[1;36m0\u001b[0m\u001b[1;33m,\u001b[0m\u001b[0mscale\u001b[0m\u001b[1;33m=\u001b[0m\u001b[1;36m1\u001b[0m\u001b[1;33m,\u001b[0m\u001b[0msize\u001b[0m\u001b[1;33m=\u001b[0m\u001b[1;33m(\u001b[0m\u001b[0mM\u001b[0m\u001b[1;33m,\u001b[0m\u001b[0mP\u001b[0m\u001b[1;33m)\u001b[0m\u001b[1;33m)\u001b[0m\u001b[1;33m\u001b[0m\u001b[0m\n\u001b[0m\u001b[0;32m      2\u001b[0m \u001b[0mdbeta\u001b[0m \u001b[1;33m=\u001b[0m \u001b[0mnp\u001b[0m\u001b[1;33m.\u001b[0m\u001b[0mzeros\u001b[0m\u001b[1;33m(\u001b[0m\u001b[1;33m(\u001b[0m\u001b[0mM\u001b[0m\u001b[1;33m,\u001b[0m\u001b[0mP\u001b[0m\u001b[1;33m)\u001b[0m\u001b[1;33m)\u001b[0m\u001b[1;33m\u001b[0m\u001b[0m\n\u001b[0;32m      3\u001b[0m \u001b[1;33m\u001b[0m\u001b[0m\n\u001b[0;32m      4\u001b[0m \u001b[0ma\u001b[0m\u001b[1;33m=\u001b[0m\u001b[0mnp\u001b[0m\u001b[1;33m.\u001b[0m\u001b[0mones\u001b[0m\u001b[1;33m(\u001b[0m\u001b[0mM\u001b[0m\u001b[1;33m)\u001b[0m\u001b[1;33m\u001b[0m\u001b[0m\n\u001b[0;32m      5\u001b[0m \u001b[1;33m\u001b[0m\u001b[0m\n",
      "\u001b[1;31mNameError\u001b[0m: name 'np' is not defined"
     ]
    }
   ],
   "source": [
    "beta = np.random.normal(loc=0,scale=1,size=(M,P))\n",
    "dbeta = np.zeros((M,P))\n",
    "\n",
    "a=np.ones(M) \n",
    "\n",
    "alpha=np.random.normal(loc=0,scale=1,size=(K,M))\n",
    "dalpha = np.zeros((K,M))\n",
    "\n",
    "bias_1=np.random.normal(loc=0,scale=1,size=M)\n",
    "dbias_1=np.zeros(M)\n",
    "bias_2=np.random.normal(loc=0,scale=1,size=K)\n",
    "dbias_2=np.zeros(K)\n",
    "\n",
    "n_iter=4000\n",
    "n_epochs=5\n",
    "n_batch=10\n",
    "learn_rate = 0.1\n",
    "\n",
    "losses=np.zeros(n_iter)\n",
    "y_hat = np.zeros((n_batch, K))\n",
    "for ep in range(n_epochs):\n",
    "    for count in range(n_iter):\n",
    "        start_idx=count*n_batch\n",
    "        end_idx=(count+1)*n_batch\n",
    "\n",
    "        y_batch=y[start_idx:end_idx]\n",
    "        x_batch=x[start_idx:end_idx]\n",
    "\n",
    "        #forward pass\n",
    "        for i in range(n_batch):\n",
    "            x_obs=x_batch.iloc[i,:]\n",
    "            z=np.matmul(beta,x_obs)+bias_1\n",
    "            a=sigmoid(z)\n",
    "\n",
    "            t=np.matmul(alpha,a)+bias_2\n",
    "            y_hat[i,:]=sigmoid(t)\n",
    "        #print(y_hat)\n",
    "        losses[count]=loss(y_batch=y_batch, y_hat=y_hat)\n",
    "       #gradient updates\n",
    "        temp_y=y_batch*(1-y_hat)\n",
    "        temp_normy=(-1./n_batch)*temp_y.sum(axis=0) #sum along columns, i.e. over all batch obs\n",
    "\n",
    "        dbias_2=temp_normy\n",
    "        dalpha=np.outer(a,temp_normy).T\n",
    "\n",
    "        temp_a=a*(1-a)\n",
    "        temp_yalph = np.matmul(temp_y, alpha) #y*(1-y_hat)*alpha_km = NxM matrix\n",
    "        temp_x=np.matmul(temp_yalph.T,x_batch)\n",
    "        dbeta = (-1./n_batch)*temp_x*temp_a[:, np.newaxis]\n",
    "        dbias_1=(-1./n_batch)*temp_a*temp_yalph.sum(axis=0)\n",
    "\n",
    "        beta = beta - learn_rate*dbeta\n",
    "        alpha = alpha - learn_rate*dalpha\n",
    "        bias_1=bias_1-learn_rate*dbias_1\n",
    "        bias_2=bias_2-learn_rate*dbias_2\n",
    "\n",
    "\n",
    "        if(count%1000==0):\n",
    "            print(\"{0} iterations\".format(count))\n",
    "    print(\"\")\n",
    "print(\"Done\")\n",
    "plt.plot(range(len(losses)),losses)"
   ]
  },
  {
   "cell_type": "code",
   "execution_count": 111,
   "metadata": {},
   "outputs": [
    {
     "name": "stdout",
     "output_type": "stream",
     "text": [
      "[[ 0  0  0]\n",
      " [ 4  5  6]\n",
      " [14 16 18]]\n",
      "[[ 0  2  6]\n",
      " [ 0  5 12]\n",
      " [ 0  8 18]]\n",
      "[12 15 18]\n"
     ]
    },
    {
     "data": {
      "image/png": "[encoded data removed]",
      "text/plain": [
       "<Figure size 432x288 with 1 Axes>"
      ]
     },
     "metadata": {},
     "output_type": "display_data"
    }
   ],
   "source": [
    "plt.plot(range(len(losses)),losses,)\n",
    "axes = plt.gca()\n",
    "axes.set_ylim([0,0.2])\n",
    "m = np.array([[1,2,3],[4,5,6],[7,8,9]])\n",
    "c = np.array([0,1,2])\n",
    "print(m*c[:, np.newaxis] )\n",
    "print(m*c)\n",
    "\n",
    "print(m.sum(axis=0))"
   ]
  },
  {
   "cell_type": "code",
   "execution_count": 112,
   "metadata": {},
   "outputs": [
    {
     "name": "stdout",
     "output_type": "stream",
     "text": [
      "0.071\n"
     ]
    }
   ],
   "source": [
    "def predict(x_obs):\n",
    "    y_pred=np.zeros(K)\n",
    "    z=np.matmul(beta,x_obs)+bias_1\n",
    "    a=sigmoid(z)\n",
    "        \n",
    "    t=np.matmul(alpha,a)+bias_2\n",
    "    y_pred=sigmoid(t)\n",
    "\n",
    "    prediction=np.argmax(y_pred)\n",
    "    return prediction\n",
    "\n",
    "def plot_number(idx):\n",
    "    plt.imshow(np.reshape(np.array(x.iloc[idx,1:]), newshape=(28,28)),cmap=plt.get_cmap('gray'))\n",
    "    \n",
    "sample_size=5000\n",
    "\n",
    "correct=0\n",
    "for i in range(sample_size):\n",
    "    prediction=predict(x.iloc[-i,:])\n",
    "    label=data.iloc[-i,0]\n",
    "    congrats=\"\"\n",
    "    if prediction==label:\n",
    "        correct+=1\n",
    "    #print(\"Prediction: {0}, label: {1}\".format(prediction,label), congrats)\n",
    "print(correct/sample_size)"
   ]
  },
  {
   "cell_type": "code",
   "execution_count": 69,
   "metadata": {},
   "outputs": [
    {
     "name": "stdout",
     "output_type": "stream",
     "text": [
      "[[1. 1. 1. 1. 1. 1. 1. 1. 1. 1.]]\n"
     ]
    }
   ],
   "source": [
    "\n",
    "\n",
    "print(y_hat)"
   ]
  },
  {
   "cell_type": "code",
   "execution_count": null,
   "metadata": {},
   "outputs": [],
   "source": []
  }
 ],
 "metadata": {
  "kernelspec": {
   "display_name": "Python 3",
   "language": "python",
   "name": "python3"
  },
  "language_info": {
   "codemirror_mode": {
    "name": "ipython",
    "version": 3
   },
   "file_extension": ".py",
   "mimetype": "text/x-python",
   "name": "python",
   "nbconvert_exporter": "python",
   "pygments_lexer": "ipython3",
   "version": "3.6.5"
  }
 },
 "nbformat": 4,
 "nbformat_minor": 2
}
